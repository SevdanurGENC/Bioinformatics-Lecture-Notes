{
  "nbformat": 4,
  "nbformat_minor": 0,
  "metadata": {
    "colab": {
      "provenance": []
    },
    "kernelspec": {
      "name": "python3",
      "display_name": "Python 3"
    },
    "language_info": {
      "name": "python"
    }
  },
  "cells": [
    {
      "cell_type": "code",
      "execution_count": null,
      "metadata": {
        "id": "DAjdoItBcy4e"
      },
      "outputs": [],
      "source": [
        "# String, Integer, Float ve Boolean veri tipleri\n",
        "gen_name = \"BRCA1\"\n",
        "gene_length = 1863\n",
        "gc_content = 0.42\n",
        "is_oncogene = True\n"
      ]
    },
    {
      "cell_type": "code",
      "source": [
        "# For döngüsü ile bir dizideki nükleotidleri sayma\n",
        "sequence = \"ATCGGCTA\"\n",
        "for nucleotide in sequence:\n",
        "    print(nucleotide)\n"
      ],
      "metadata": {
        "colab": {
          "base_uri": "https://localhost:8080/"
        },
        "id": "1_sbJq4mdm63",
        "outputId": "ce3db1a6-e979-47a0-922f-396f7e6aef0f"
      },
      "execution_count": null,
      "outputs": [
        {
          "output_type": "stream",
          "name": "stdout",
          "text": [
            "A\n",
            "T\n",
            "C\n",
            "G\n",
            "G\n",
            "C\n",
            "T\n",
            "A\n"
          ]
        }
      ]
    },
    {
      "cell_type": "code",
      "source": [
        "# GC içeriği hesaplama fonksiyonu\n",
        "def calculate_gc_content(sequence):\n",
        "    g_count = sequence.count('G')\n",
        "    c_count = sequence.count('C')\n",
        "    gc_content = (g_count + c_count) / len(sequence)\n",
        "    return gc_content\n",
        "\n",
        "# Fonksiyonun kullanımı\n",
        "gc = calculate_gc_content(\"ATCGGCTA\")\n",
        "print(f\"GC İçeriği: {gc:.2f}\")\n"
      ],
      "metadata": {
        "colab": {
          "base_uri": "https://localhost:8080/"
        },
        "id": "q7A-vOmXdm90",
        "outputId": "3e5e1863-0eb3-49d7-f6a4-d942fbf8b9bf"
      },
      "execution_count": null,
      "outputs": [
        {
          "output_type": "stream",
          "name": "stdout",
          "text": [
            "GC İçeriği: 0.50\n"
          ]
        }
      ]
    },
    {
      "cell_type": "markdown",
      "source": [
        "# Motif Bulma"
      ],
      "metadata": {
        "id": "ppleGuQ_eKOt"
      }
    },
    {
      "cell_type": "code",
      "source": [
        "# DNA dizisi\n",
        "dna_sequence = \"ATGCGATACGTACGATCG\"\n",
        "\n",
        "# Aranacak motif\n",
        "motif = \"CG\"\n",
        "\n",
        "# Motifin dizi içindeki sayısı\n",
        "motif_count = dna_sequence.count(motif)\n",
        "print(f\"{motif} motifi {motif_count} kez bulunuyor.\")\n"
      ],
      "metadata": {
        "colab": {
          "base_uri": "https://localhost:8080/"
        },
        "id": "8eneY4EzdnAm",
        "outputId": "cb340c20-2ee9-4854-9808-9775ec3f002a"
      },
      "execution_count": null,
      "outputs": [
        {
          "output_type": "stream",
          "name": "stdout",
          "text": [
            "CG motifi 4 kez bulunuyor.\n"
          ]
        }
      ]
    },
    {
      "cell_type": "markdown",
      "source": [
        "# biopython Kurulumu"
      ],
      "metadata": {
        "id": "HDFOu8fkfAPc"
      }
    },
    {
      "cell_type": "code",
      "source": [
        "pip install biopython\n"
      ],
      "metadata": {
        "colab": {
          "base_uri": "https://localhost:8080/"
        },
        "id": "1LrHHNFZeigU",
        "outputId": "080cd1a0-c654-4fd7-ba01-d82219b3b1a6"
      },
      "execution_count": null,
      "outputs": [
        {
          "output_type": "stream",
          "name": "stdout",
          "text": [
            "Collecting biopython\n",
            "  Downloading biopython-1.84-cp310-cp310-manylinux_2_17_x86_64.manylinux2014_x86_64.whl.metadata (12 kB)\n",
            "Requirement already satisfied: numpy in /usr/local/lib/python3.10/dist-packages (from biopython) (1.26.4)\n",
            "Downloading biopython-1.84-cp310-cp310-manylinux_2_17_x86_64.manylinux2014_x86_64.whl (3.2 MB)\n",
            "\u001b[2K   \u001b[90m━━━━━━━━━━━━━━━━━━━━━━━━━━━━━━━━━━━━━━━━\u001b[0m \u001b[32m3.2/3.2 MB\u001b[0m \u001b[31m35.9 MB/s\u001b[0m eta \u001b[36m0:00:00\u001b[0m\n",
            "\u001b[?25hInstalling collected packages: biopython\n",
            "Successfully installed biopython-1.84\n"
          ]
        }
      ]
    },
    {
      "cell_type": "code",
      "source": [
        "from Bio import Entrez, SeqIO\n",
        "\n",
        "# Entrez e-posta adresi ayarı\n",
        "Entrez.email = \"sevdanur.genc@balikesir.edu.tr\"\n",
        "\n",
        "# GenBank ID ile diziyi indirme\n",
        "handle = Entrez.efetch(db=\"nucleotide\", id=\"NM_001301717\", rettype=\"gb\", retmode=\"text\")\n",
        "record = SeqIO.read(handle, \"genbank\")\n",
        "\n",
        "# Diziyi yazdırma\n",
        "print(record.seq)\n",
        "handle.close()\n"
      ],
      "metadata": {
        "colab": {
          "base_uri": "https://localhost:8080/"
        },
        "id": "-GzY9FQCeii0",
        "outputId": "50a54cc6-7ba5-4f12-84b1-fd2983a5bca8"
      },
      "execution_count": null,
      "outputs": [
        {
          "output_type": "stream",
          "name": "stdout",
          "text": [
            "CTCTAGATGAGTCAGTGGAGGGCGGGTGGAGCGTTGAACCGTGAAGAGTGTGGTTGGGCGTAAACGTGGACTTAAACTCAGGAGCTAAGGGGGAAACCAATGAAAAGCGTGCTGGTGGTGGCTCTCCTTGTCATTTTCCAGGTATGCCTGTGTCAAGATGAGGTCACGGACGATTACATCGGAGACAACACCACAGTGGACTACACTTTGTTCGAGTCTTTGTGCTCCAAGAAGGACGTGCGGAACTTTAAAGCCTGGTTCCTCCCTATCATGTACTCCATCATTTGTTTCGTGGGCCTACTGGGCAATGGGCTGGTCGTGTTGACCTATATCTATTTCAAGAGGCTCAAGACCATGACCGATACCTACCTGCTCAACCTGGCGGTGGCAGACATCCTCTTCCTCCTGACCCTTCCCTTCTGGGCCTACAGCGCGGCCAAGTCCTGGGTCTTCGGTGTCCACTTTTGCAAGCTCATCTTTGCCATCTACAAGATGAGCTTCTTCAGTGGCATGCTCCTACTTCTTTGCATCAGCATTGACCGCTACGTGGCCATCGTCCAGGCTGTCTCAGCTCACCGCCACCGTGCCCGCGTCCTTCTCATCAGCAAGCTGTCCTGTGTGGGCATCTGGATACTAGCCACAGTGCTCTCCATCCCAGAGCTCCTGTACAGTGACCTCCAGAGGAGCAGCAGTGAGCAAGCGATGCGATGCTCTCTCATCACAGAGCATGTGGAGGCCTTTATCACCATCCAGGTGGCCCAGATGGTGATCGGCTTTCTGGTCCCCCTGCTGGCCATGAGCTTCTGTTACCTTGTCATCATCCGCACCCTGCTCCAGGCACGCAACTTTGAGCGCAACAAGGCCATCAAGGTGATCATCGCTGTGGTCGTGGTCTTCATAGTCTTCCAGCTGCCCTACAATGGGGTGGTCCTGGCCCAGACGGTGGCCAACTTCAACATCACCAGTAGCACCTGTGAGCTCAGTAAGCAACTCAACATCGCCTACGACGTCACCTACAGCCTGGCCTGCGTCCGCTGCTGCGTCAACCCTTTCTTGTACGCCTTCATCGGCGTCAAGTTCCGCAACGATCTCTTCAAGCTCTTCAAGGACCTGGGCTGCCTCAGCCAGGAGCAGCTCCGGCAGTGGTCTTCCTGTCGGCACATCCGGCGCTCCTCCATGAGTGTGGAGGCCGAGACCACCACCACCTTCTCCCCATAGGCGACTCTTCTGCCTGGACTAGAGGGACCTCTCCCAGGGTCCCTGGGGTGGGGATAGGGAGCAGATGCAATGACTCAGGACATCCCCCCGCCAAAAGCTGCTCAGGGAAAAGCAGCTCTCCCCTCAGAGTGCAAGCCCCTGCTCCAGAAGATAGCTTCACCCCAATCCCAGCTACCTCAACCAATGCCAAAAAAAGACAGGGCTGATAAGCTAACACCAGACAGACAACACTGGGAAACAGAGGCTATTGTCCCCTAAACCAAAAACTGAAAGTGAAAGTCCAGAAACTGTTCCCACCTGCTGGAGTGAAGGGGCCAAGGAGGGTGAGTGCAAGGGGCGTGGGAGTGGCCTGAAGAGTCCTCTGAATGAACCTTCTGGCCTCCCACAGACTCAAATGCTCAGACCAGCTCTTCCGAAAACCAGGCCTTATCTCCAAGACCAGAGATAGTGGGGAGACTTCTTGGCTTGGTGAGGAAAAGCGGACATCAGCTGGTCAAACAAACTCTCTGAACCCCTCCCTCCATCGTTTTCTTCACTGTCCTCCAAGCCAGCGGGAATGGCAGCTGCCACGCCGCCCTAAAAGCACACTCATCCCCTCACTTGCCGCGTCGCCCTCCCAGGCTCTCAACAGGGGAGAGTGTGGTGTTTCCTGCAGGCCAGGCCAGCTGCCTCCGCGTGATCAAAGCCACACTCTGGGCTCCAGAGTGGGGATGACATGCACTCAGCTCTTGGCTCCACTGGGATGGGAGGAGAGGACAAGGGAAATGTCAGGGGCGGGGAGGGTGACAGTGGCCGCCCAAGGCCCACGAGCTTGTTCTTTGTTCTTTGTCACAGGGACTGAAAACCTCTCCTCATGTTCTGCTTTCGATTCGTTAAGAGAGCAACATTTTACCCACACACAGATAAAGTTTTCCCTTGAGGAAACAACAGCTTTAAAAGAAAAAGAAAAAAAAAGTCTTTGGTAAATGGCAAA\n"
          ]
        }
      ]
    },
    {
      "cell_type": "code",
      "source": [
        "from Bio import ExPASy\n",
        "from Bio import SwissProt\n",
        "\n",
        "# UniProt ID'si ile veri çekme\n",
        "handle = ExPASy.get_sprot_raw(\"P04637\")  # P53 proteini için ID\n",
        "record = SwissProt.read(handle)\n",
        "\n",
        "# Protein dizisini yazdırma\n",
        "print(record.sequence)\n",
        "handle.close()\n"
      ],
      "metadata": {
        "colab": {
          "base_uri": "https://localhost:8080/"
        },
        "id": "9E8tddn2einm",
        "outputId": "cada4bba-9c41-43b4-bfac-da3b53bf88e4"
      },
      "execution_count": null,
      "outputs": [
        {
          "output_type": "stream",
          "name": "stdout",
          "text": [
            "MEEPQSDPSVEPPLSQETFSDLWKLLPENNVLSPLPSQAMDDLMLSPDDIEQWFTEDPGPDEAPRMPEAAPPVAPAPAAPTPAAPAPAPSWPLSSSVPSQKTYQGSYGFRLGFLHSGTAKSVTCTYSPALNKMFCQLAKTCPVQLWVDSTPPPGTRVRAMAIYKQSQHMTEVVRRCPHHERCSDSDGLAPPQHLIRVEGNLRVEYLDDRNTFRHSVVVPYEPPEVGSDCTTIHYNYMCNSSCMGGMNRRPILTIITLEDSSGNLLGRNSFEVRVCACPGRDRRTEEENLRKKGEPHHELPPGSTKRALPNNTSSSPQPKKKPLDGEYFTLQIRGRERFEMFRELNEALELKDAQAGKEPGGSRAHSSHLKSKKGQSTSRHKKLMFKTEGPDSD\n"
          ]
        }
      ]
    },
    {
      "cell_type": "code",
      "source": [
        "def calculate_gc_content(sequence):\n",
        "    g_count = sequence.count('G')\n",
        "    c_count = sequence.count('C')\n",
        "    gc_content = (g_count + c_count) / len(sequence)\n",
        "    return gc_content\n",
        "\n",
        "# GenBank'tan çekilen DNA dizisi için GC içeriği\n",
        "gc = calculate_gc_content(record.seq)\n",
        "print(f\"GC İçeriği: {gc:.2f}\")\n"
      ],
      "metadata": {
        "colab": {
          "base_uri": "https://localhost:8080/"
        },
        "id": "VogyBQT1eipz",
        "outputId": "9062e73e-efe4-473f-e1a3-c8b48aef5424"
      },
      "execution_count": null,
      "outputs": [
        {
          "output_type": "stream",
          "name": "stdout",
          "text": [
            "GC İçeriği: 0.55\n"
          ]
        }
      ]
    },
    {
      "cell_type": "code",
      "source": [
        "# Protein dizisinde belirli bir motif arama\n",
        "motif = \"TP53\"\n",
        "motif_count = record.sequence.count(motif)\n",
        "print(f\"{motif} motifi protein dizisinde {motif_count} kez bulunuyor.\")\n"
      ],
      "metadata": {
        "colab": {
          "base_uri": "https://localhost:8080/"
        },
        "id": "IZQh_Mm5hk5o",
        "outputId": "8d4faae9-dd2f-45cf-e7eb-4d354ce20451"
      },
      "execution_count": null,
      "outputs": [
        {
          "output_type": "stream",
          "name": "stdout",
          "text": [
            "TP53 motifi protein dizisinde 0 kez bulunuyor.\n"
          ]
        }
      ]
    },
    {
      "cell_type": "code",
      "source": [
        "from Bio import SeqIO\n",
        "\n",
        "# FASTA dosyasını okuma\n",
        "for record in SeqIO.parse(\"example.fasta\", \"fasta\"):\n",
        "    print(f\"ID: {record.id}\")\n",
        "    print(f\"Dizi: {record.seq}\\n\")\n"
      ],
      "metadata": {
        "colab": {
          "base_uri": "https://localhost:8080/"
        },
        "id": "d4CvI9SaibJ4",
        "outputId": "09d39aaa-48f4-43c8-8e01-6ef43f7804db"
      },
      "execution_count": null,
      "outputs": [
        {
          "output_type": "stream",
          "name": "stdout",
          "text": [
            "ID: crab_anapl\n",
            "Dizi: MDITIHNPLIRRPLFSWLAPSRIFDQIFGEHLQESELLPASPSLSPFLMRSPIFRMPSWLETGLSEMRLEKDKFSVNLDVKHFSPEELKVKVLGDMVEIHGKHEERQDEHGFIAREFNRKYRIPADVDPLTITSSLSLDGVLTVSAPRKQSDVPERSIPITREEKPAIAGAQRK\n",
            "\n"
          ]
        }
      ]
    },
    {
      "cell_type": "code",
      "source": [
        "from Bio.Seq import Seq\n",
        "from Bio.SeqRecord import SeqRecord\n",
        "\n",
        "# Yeni bir DNA dizisi oluşturma\n",
        "sequence = Seq(\"ATGCGATACGTACGATCG\")\n",
        "record = SeqRecord(sequence, id=\"NM_001301717\", description=\"Example DNA sequence\")\n",
        "\n",
        "# Diziyi FASTA formatında yazma\n",
        "SeqIO.write(record, \"output.fasta\", \"fasta\")\n"
      ],
      "metadata": {
        "colab": {
          "base_uri": "https://localhost:8080/"
        },
        "id": "Sgb8DptaibMh",
        "outputId": "f4207e3a-81a3-409c-d438-d6757139bf4f"
      },
      "execution_count": null,
      "outputs": [
        {
          "output_type": "execute_result",
          "data": {
            "text/plain": [
              "1"
            ]
          },
          "metadata": {},
          "execution_count": 17
        }
      ]
    },
    {
      "cell_type": "code",
      "source": [
        "from Bio import AlignIO\n",
        "\n",
        "# Clustal formatındaki hizalamayı okuma\n",
        "alignment = AlignIO.read(\"example.aln\", \"clustal\")\n",
        "print(f\"Hizalama uzunluğu: {alignment.get_alignment_length()}\")\n",
        "\n",
        "for record in alignment:\n",
        "    print(f\"{record.id}: {record.seq}\")\n"
      ],
      "metadata": {
        "colab": {
          "base_uri": "https://localhost:8080/"
        },
        "id": "9ehDd8CDibPR",
        "outputId": "0055fc1f-39dd-484a-9d21-87b2e9a040c4"
      },
      "execution_count": null,
      "outputs": [
        {
          "output_type": "stream",
          "name": "stdout",
          "text": [
            "Hizalama uzunluğu: 50\n",
            "gi|6273285|gb|AF191659.1|AF191: TATACATTAAAGAAGGGGGATGCGGATAAATGGAAAGGCGAAAGAAAGAA\n",
            "gi|6273284|gb|AF191658.1|AF191: TATACATTAAAGAAGGGGGATGCGGATAAATGGAAAGGCGAAAGAAAGAA\n",
            "gi|6273287|gb|AF191661.1|AF191: TATACATTAAAGAAGGGGGATGCGGATAAATGGAAAGGCGAAAGAAAGAA\n",
            "gi|6273286|gb|AF191660.1|AF191: TATACATAAAAGAAGGGGGATGCGGATAAATGGAAAGGCGAAAGAAAGAA\n",
            "gi|6273290|gb|AF191664.1|AF191: TATACATTAAAGGAGGGGGATGCGGATAAATGGAAAGGCGAAAGAAAGAA\n",
            "gi|6273289|gb|AF191663.1|AF191: TATACATTAAAGGAGGGGGATGCGGATAAATGGAAAGGCGAAAGAAAGAA\n",
            "gi|6273291|gb|AF191665.1|AF191: TATACATTAAAGGAGGGGGATGCGGATAAATGGAAAGGCGAAAGAAAGAA\n"
          ]
        }
      ]
    },
    {
      "cell_type": "code",
      "source": [
        "# Clustal hizalamasını Phylip formatına dönüştürme\n",
        "AlignIO.convert(\"example.aln\", \"clustal\", \"output.phy\", \"phylip\")\n"
      ],
      "metadata": {
        "colab": {
          "base_uri": "https://localhost:8080/"
        },
        "id": "evdWqudOibZ9",
        "outputId": "7c9eeaed-9f6b-46a5-c399-1d00a1d5947a"
      },
      "execution_count": null,
      "outputs": [
        {
          "output_type": "execute_result",
          "data": {
            "text/plain": [
              "1"
            ]
          },
          "metadata": {},
          "execution_count": 21
        }
      ]
    },
    {
      "cell_type": "code",
      "source": [
        "from Bio.Emboss.Applications import NeedleCommandline\n",
        "\n",
        "needle_cline = NeedleCommandline(asequence=\"asis:ATGCGATACGTACGATCG\",\n",
        "                                 bsequence=\"asis:ATGCGTAGCGTACGATCG\",\n",
        "                                 gapopen=10, gapextend=0.5,\n",
        "                                 outfile=\"needle.txt\")\n",
        "# needle_cline()\n",
        "\n",
        "print(needle_cline)\n"
      ],
      "metadata": {
        "colab": {
          "base_uri": "https://localhost:8080/"
        },
        "id": "WKeYix68p342",
        "outputId": "440ce8f9-478d-4848-cdc2-d21376dc5fba"
      },
      "execution_count": 32,
      "outputs": [
        {
          "output_type": "stream",
          "name": "stdout",
          "text": [
            "needle -outfile=needle.txt -asequence=asis:ATGCGATACGTACGATCG -bsequence=asis:ATGCGTAGCGTACGATCG -gapopen=10 -gapextend=0.5\n"
          ]
        }
      ]
    },
    {
      "cell_type": "code",
      "source": [],
      "metadata": {
        "id": "6-aN5FBJp37V"
      },
      "execution_count": null,
      "outputs": []
    },
    {
      "cell_type": "code",
      "source": [],
      "metadata": {
        "id": "wjXzoInAp39W"
      },
      "execution_count": null,
      "outputs": []
    },
    {
      "cell_type": "code",
      "source": [],
      "metadata": {
        "id": "KVdsBHl2p5A3"
      },
      "execution_count": null,
      "outputs": []
    },
    {
      "cell_type": "code",
      "source": [],
      "metadata": {
        "id": "wdo5s6dZp5H5"
      },
      "execution_count": null,
      "outputs": []
    }
  ]
}