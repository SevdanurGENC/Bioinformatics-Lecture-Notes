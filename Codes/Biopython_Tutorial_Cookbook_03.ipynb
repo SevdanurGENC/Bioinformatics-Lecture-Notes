{
  "nbformat": 4,
  "nbformat_minor": 0,
  "metadata": {
    "colab": {
      "provenance": []
    },
    "kernelspec": {
      "name": "python3",
      "display_name": "Python 3"
    },
    "language_info": {
      "name": "python"
    }
  },
  "cells": [
    {
      "cell_type": "markdown",
      "source": [
        "**Sequence alignments**"
      ],
      "metadata": {
        "id": "FeKIC07sU5lM"
      }
    },
    {
      "cell_type": "code",
      "source": [
        "pip install biopython"
      ],
      "metadata": {
        "colab": {
          "base_uri": "https://localhost:8080/"
        },
        "collapsed": true,
        "id": "ubjXkX8IVQRz",
        "outputId": "e0db00cf-9995-443d-c9f6-08bbe5c96546"
      },
      "execution_count": 3,
      "outputs": [
        {
          "output_type": "stream",
          "name": "stdout",
          "text": [
            "Collecting biopython\n",
            "  Downloading biopython-1.84-cp310-cp310-manylinux_2_17_x86_64.manylinux2014_x86_64.whl.metadata (12 kB)\n",
            "Requirement already satisfied: numpy in /usr/local/lib/python3.10/dist-packages (from biopython) (1.26.4)\n",
            "Downloading biopython-1.84-cp310-cp310-manylinux_2_17_x86_64.manylinux2014_x86_64.whl (3.2 MB)\n",
            "\u001b[2K   \u001b[90m━━━━━━━━━━━━━━━━━━━━━━━━━━━━━━━━━━━━━━━━\u001b[0m \u001b[32m3.2/3.2 MB\u001b[0m \u001b[31m30.1 MB/s\u001b[0m eta \u001b[36m0:00:00\u001b[0m\n",
            "\u001b[?25hInstalling collected packages: biopython\n",
            "Successfully installed biopython-1.84\n"
          ]
        }
      ]
    },
    {
      "cell_type": "code",
      "execution_count": 1,
      "metadata": {
        "id": "VgeZhfb6U0d9"
      },
      "outputs": [],
      "source": [
        "seqA = \"CCGGTTTTT\"\n",
        "seqB = \"AGTTTAA\"\n",
        "seqC = \"AGGTTT\"\n",
        "sequences = [seqA, seqB, seqC]\n",
        "\n",
        "import numpy as np\n",
        "coordinates = np.array([[1, 3, 4, 7, 9], [0, 2, 2, 5, 5], [0, 2, 3, 6, 6]])"
      ]
    },
    {
      "cell_type": "code",
      "source": [
        "from Bio.Align import Alignment\n",
        "alignment = Alignment(sequences, coordinates)\n",
        "alignment"
      ],
      "metadata": {
        "colab": {
          "base_uri": "https://localhost:8080/"
        },
        "id": "VJ7scmxzVMMR",
        "outputId": "d6891699-1944-4723-dd25-46b2b808cd4d"
      },
      "execution_count": 4,
      "outputs": [
        {
          "output_type": "execute_result",
          "data": {
            "text/plain": [
              "<Alignment object (3 rows x 8 columns) at 0x7d3e44076e60>"
            ]
          },
          "metadata": {},
          "execution_count": 4
        }
      ]
    },
    {
      "cell_type": "code",
      "source": [
        "alignment.sequences"
      ],
      "metadata": {
        "colab": {
          "base_uri": "https://localhost:8080/"
        },
        "id": "Q--qFw2ZVbEx",
        "outputId": "09448c49-7fea-43c3-9ee1-74aea8df68d8"
      },
      "execution_count": 5,
      "outputs": [
        {
          "output_type": "execute_result",
          "data": {
            "text/plain": [
              "['CCGGTTTTT', 'AGTTTAA', 'AGGTTT']"
            ]
          },
          "metadata": {},
          "execution_count": 5
        }
      ]
    },
    {
      "cell_type": "code",
      "source": [
        "alignment.coordinates"
      ],
      "metadata": {
        "colab": {
          "base_uri": "https://localhost:8080/"
        },
        "id": "NAwvhvDcVbHL",
        "outputId": "22babfcd-0e53-4756-a032-97505023144a"
      },
      "execution_count": 6,
      "outputs": [
        {
          "output_type": "execute_result",
          "data": {
            "text/plain": [
              "array([[1, 3, 4, 7, 9],\n",
              "       [0, 2, 2, 5, 5],\n",
              "       [0, 2, 3, 6, 6]])"
            ]
          },
          "metadata": {},
          "execution_count": 6
        }
      ]
    },
    {
      "cell_type": "code",
      "source": [
        "print(alignment)"
      ],
      "metadata": {
        "colab": {
          "base_uri": "https://localhost:8080/"
        },
        "id": "v0p0x0oZVbJr",
        "outputId": "bb330af1-b3a3-49b3-901e-3c4c22e46a7b"
      },
      "execution_count": 7,
      "outputs": [
        {
          "output_type": "stream",
          "name": "stdout",
          "text": [
            "                  1 CGGTTTTT 9\n",
            "                  0 AG-TTT-- 5\n",
            "                  0 AGGTTT-- 6\n",
            "\n"
          ]
        }
      ]
    },
    {
      "cell_type": "markdown",
      "source": [
        "**Creating an Alignment object from aligned sequences**"
      ],
      "metadata": {
        "id": "UBRy-ydXWUph"
      }
    },
    {
      "cell_type": "code",
      "source": [
        "lines = [\"CGGTTTTT\", \"AG-TTT--\", \"AGGTTT--\"]\n",
        "for line in lines:\n",
        "    print(line)"
      ],
      "metadata": {
        "colab": {
          "base_uri": "https://localhost:8080/"
        },
        "id": "DCY4t6x_VbMQ",
        "outputId": "fd696691-3f5b-45c6-d19a-25f75d45e4b5"
      },
      "execution_count": 8,
      "outputs": [
        {
          "output_type": "stream",
          "name": "stdout",
          "text": [
            "CGGTTTTT\n",
            "AG-TTT--\n",
            "AGGTTT--\n"
          ]
        }
      ]
    },
    {
      "cell_type": "code",
      "source": [
        "lines = [line.encode() for line in lines]  # convert to bytes\n",
        "lines"
      ],
      "metadata": {
        "colab": {
          "base_uri": "https://localhost:8080/"
        },
        "id": "tOvLtDv1VbOv",
        "outputId": "92bc83b5-7b92-4ba3-c25e-ec34d585d50a"
      },
      "execution_count": 9,
      "outputs": [
        {
          "output_type": "execute_result",
          "data": {
            "text/plain": [
              "[b'CGGTTTTT', b'AG-TTT--', b'AGGTTT--']"
            ]
          },
          "metadata": {},
          "execution_count": 9
        }
      ]
    },
    {
      "cell_type": "code",
      "source": [
        "sequences, coordinates = Alignment.parse_printed_alignment(lines)\n",
        "sequences"
      ],
      "metadata": {
        "colab": {
          "base_uri": "https://localhost:8080/"
        },
        "id": "IrCbHzUeWeYa",
        "outputId": "770f3494-df70-40e8-d5a5-bff8c7031bed"
      },
      "execution_count": 10,
      "outputs": [
        {
          "output_type": "execute_result",
          "data": {
            "text/plain": [
              "[b'CGGTTTTT', b'AGTTT', b'AGGTTT']"
            ]
          },
          "metadata": {},
          "execution_count": 10
        }
      ]
    },
    {
      "cell_type": "code",
      "source": [
        "sequences = [sequence.decode() for sequence in sequences]\n",
        "sequences"
      ],
      "metadata": {
        "colab": {
          "base_uri": "https://localhost:8080/"
        },
        "id": "LK-jJW9wWea8",
        "outputId": "a9c71ddb-f77c-4fae-a182-b685d48faf27"
      },
      "execution_count": 11,
      "outputs": [
        {
          "output_type": "execute_result",
          "data": {
            "text/plain": [
              "['CGGTTTTT', 'AGTTT', 'AGGTTT']"
            ]
          },
          "metadata": {},
          "execution_count": 11
        }
      ]
    },
    {
      "cell_type": "code",
      "source": [
        "print(coordinates)"
      ],
      "metadata": {
        "colab": {
          "base_uri": "https://localhost:8080/"
        },
        "id": "q3tkyF7RWedg",
        "outputId": "821859be-54de-4a72-8b45-0aad8612bb2b"
      },
      "execution_count": 12,
      "outputs": [
        {
          "output_type": "stream",
          "name": "stdout",
          "text": [
            "[[0 2 3 6 8]\n",
            " [0 2 2 5 5]\n",
            " [0 2 3 6 6]]\n"
          ]
        }
      ]
    },
    {
      "cell_type": "code",
      "source": [
        "from Bio.Seq import Seq\n",
        "sequences[0] = \"C\" + sequences[0]\n",
        "sequences[1] = sequences[1] + \"AA\"\n",
        "sequences"
      ],
      "metadata": {
        "colab": {
          "base_uri": "https://localhost:8080/"
        },
        "id": "yMzjvODOWeh8",
        "outputId": "7aa5176d-452b-4ee2-bf01-f8cc0cd5a57b"
      },
      "execution_count": 13,
      "outputs": [
        {
          "output_type": "execute_result",
          "data": {
            "text/plain": [
              "['CCGGTTTTT', 'AGTTTAA', 'AGGTTT']"
            ]
          },
          "metadata": {},
          "execution_count": 13
        }
      ]
    },
    {
      "cell_type": "code",
      "source": [
        "coordinates[0, :] += 1\n",
        "print(coordinates)"
      ],
      "metadata": {
        "colab": {
          "base_uri": "https://localhost:8080/"
        },
        "id": "p8Ao3h4lWekP",
        "outputId": "e687c42c-ae9b-4033-e46c-4a309d71b315"
      },
      "execution_count": 14,
      "outputs": [
        {
          "output_type": "stream",
          "name": "stdout",
          "text": [
            "[[1 3 4 7 9]\n",
            " [0 2 2 5 5]\n",
            " [0 2 3 6 6]]\n"
          ]
        }
      ]
    },
    {
      "cell_type": "code",
      "source": [
        "alignment = Alignment(sequences, coordinates)\n",
        "print(alignment)"
      ],
      "metadata": {
        "colab": {
          "base_uri": "https://localhost:8080/"
        },
        "id": "S9lHWM4uXChi",
        "outputId": "349deb3f-68a2-43bc-f08f-4372a30a6700"
      },
      "execution_count": 16,
      "outputs": [
        {
          "output_type": "stream",
          "name": "stdout",
          "text": [
            "                  1 CGGTTTTT 9\n",
            "                  0 AG-TTT-- 5\n",
            "                  0 AGGTTT-- 6\n",
            "\n"
          ]
        }
      ]
    },
    {
      "cell_type": "code",
      "source": [
        "ungapped_alignment = Alignment([\"ACGTACGT\", \"AAGTACGT\", \"ACGTACCT\"])\n",
        "print(ungapped_alignment.coordinates)\n",
        "print(ungapped_alignment)"
      ],
      "metadata": {
        "colab": {
          "base_uri": "https://localhost:8080/"
        },
        "id": "cQuUJjIlXCkM",
        "outputId": "3f2657a7-08ad-494a-e30b-c58ec5c0d349"
      },
      "execution_count": 19,
      "outputs": [
        {
          "output_type": "stream",
          "name": "stdout",
          "text": [
            "[[0 8]\n",
            " [0 8]\n",
            " [0 8]]\n",
            "                  0 ACGTACGT 8\n",
            "                  0 AAGTACGT 8\n",
            "                  0 ACGTACCT 8\n",
            "\n"
          ]
        }
      ]
    },
    {
      "cell_type": "markdown",
      "source": [
        "**Common alignment attributes**"
      ],
      "metadata": {
        "id": "ysDsDkbVXcYd"
      }
    },
    {
      "cell_type": "markdown",
      "source": [
        "*Slicing and indexing an alignment*"
      ],
      "metadata": {
        "id": "c_45bJAvXo-o"
      }
    },
    {
      "cell_type": "code",
      "source": [
        "print(alignment)\n",
        "alignment.length"
      ],
      "metadata": {
        "colab": {
          "base_uri": "https://localhost:8080/"
        },
        "id": "Yz2Ucx0ZXCmx",
        "outputId": "856586b5-8027-4124-9c2c-f4281317c73b"
      },
      "execution_count": 20,
      "outputs": [
        {
          "output_type": "stream",
          "name": "stdout",
          "text": [
            "                  1 CGGTTTTT 9\n",
            "                  0 AG-TTT-- 5\n",
            "                  0 AGGTTT-- 6\n",
            "\n"
          ]
        },
        {
          "output_type": "execute_result",
          "data": {
            "text/plain": [
              "8"
            ]
          },
          "metadata": {},
          "execution_count": 20
        }
      ]
    },
    {
      "cell_type": "code",
      "source": [
        "alignment[0]"
      ],
      "metadata": {
        "colab": {
          "base_uri": "https://localhost:8080/",
          "height": 35
        },
        "id": "AKt1m7t1XCpW",
        "outputId": "9eb228e0-3355-4053-e91f-ee4cb6bec7db"
      },
      "execution_count": 22,
      "outputs": [
        {
          "output_type": "execute_result",
          "data": {
            "text/plain": [
              "'CGGTTTTT'"
            ],
            "application/vnd.google.colaboratory.intrinsic+json": {
              "type": "string"
            }
          },
          "metadata": {},
          "execution_count": 22
        }
      ]
    },
    {
      "cell_type": "code",
      "source": [
        "alignment[1]"
      ],
      "metadata": {
        "colab": {
          "base_uri": "https://localhost:8080/",
          "height": 35
        },
        "id": "_84SR6Y5XCrp",
        "outputId": "de182299-e849-49f9-abf2-3c4d83c0e5c4"
      },
      "execution_count": 23,
      "outputs": [
        {
          "output_type": "execute_result",
          "data": {
            "text/plain": [
              "'AG-TTT--'"
            ],
            "application/vnd.google.colaboratory.intrinsic+json": {
              "type": "string"
            }
          },
          "metadata": {},
          "execution_count": 23
        }
      ]
    },
    {
      "cell_type": "code",
      "source": [
        "alignment[2]"
      ],
      "metadata": {
        "colab": {
          "base_uri": "https://localhost:8080/",
          "height": 35
        },
        "id": "GeNBKQsKXC7o",
        "outputId": "61028de5-2110-436b-88cd-c54fc4598322"
      },
      "execution_count": 24,
      "outputs": [
        {
          "output_type": "execute_result",
          "data": {
            "text/plain": [
              "'AGGTTT--'"
            ],
            "application/vnd.google.colaboratory.intrinsic+json": {
              "type": "string"
            }
          },
          "metadata": {},
          "execution_count": 24
        }
      ]
    },
    {
      "cell_type": "code",
      "source": [
        "alignment[0, :]"
      ],
      "metadata": {
        "colab": {
          "base_uri": "https://localhost:8080/",
          "height": 35
        },
        "id": "VO2ttcrOXC-Y",
        "outputId": "b8f7719a-b945-40cf-883a-bec3b68cc626"
      },
      "execution_count": 25,
      "outputs": [
        {
          "output_type": "execute_result",
          "data": {
            "text/plain": [
              "'CGGTTTTT'"
            ],
            "application/vnd.google.colaboratory.intrinsic+json": {
              "type": "string"
            }
          },
          "metadata": {},
          "execution_count": 25
        }
      ]
    },
    {
      "cell_type": "code",
      "source": [
        "alignment[1, :]"
      ],
      "metadata": {
        "colab": {
          "base_uri": "https://localhost:8080/",
          "height": 35
        },
        "id": "xdN5MzfFYEfp",
        "outputId": "8996594a-d621-4d98-e223-6433565ad1cd"
      },
      "execution_count": 26,
      "outputs": [
        {
          "output_type": "execute_result",
          "data": {
            "text/plain": [
              "'AG-TTT--'"
            ],
            "application/vnd.google.colaboratory.intrinsic+json": {
              "type": "string"
            }
          },
          "metadata": {},
          "execution_count": 26
        }
      ]
    },
    {
      "cell_type": "code",
      "source": [
        "alignment[0, 1:-1]"
      ],
      "metadata": {
        "colab": {
          "base_uri": "https://localhost:8080/",
          "height": 35
        },
        "id": "Ed5wQQgNYGZc",
        "outputId": "fae08b8d-47e6-4170-a793-1757da75b6f9"
      },
      "execution_count": 27,
      "outputs": [
        {
          "output_type": "execute_result",
          "data": {
            "text/plain": [
              "'GGTTTT'"
            ],
            "application/vnd.google.colaboratory.intrinsic+json": {
              "type": "string"
            }
          },
          "metadata": {},
          "execution_count": 27
        }
      ]
    },
    {
      "cell_type": "code",
      "source": [
        "alignment[1, 1:-1]"
      ],
      "metadata": {
        "colab": {
          "base_uri": "https://localhost:8080/",
          "height": 35
        },
        "id": "-h1jRQemYHb0",
        "outputId": "b80af30f-4c0b-4135-97de-8244b0fef830"
      },
      "execution_count": 28,
      "outputs": [
        {
          "output_type": "execute_result",
          "data": {
            "text/plain": [
              "'G-TTT-'"
            ],
            "application/vnd.google.colaboratory.intrinsic+json": {
              "type": "string"
            }
          },
          "metadata": {},
          "execution_count": 28
        }
      ]
    },
    {
      "cell_type": "code",
      "source": [
        "alignment[0, (1, 2, 4)]"
      ],
      "metadata": {
        "colab": {
          "base_uri": "https://localhost:8080/",
          "height": 35
        },
        "id": "RsG9HEA8YIZ8",
        "outputId": "a85f596c-ad89-4d8f-b8f7-22d458b9b2b6"
      },
      "execution_count": 29,
      "outputs": [
        {
          "output_type": "execute_result",
          "data": {
            "text/plain": [
              "'GGT'"
            ],
            "application/vnd.google.colaboratory.intrinsic+json": {
              "type": "string"
            }
          },
          "metadata": {},
          "execution_count": 29
        }
      ]
    },
    {
      "cell_type": "code",
      "source": [
        "alignment[1, range(0, 5, 2)]"
      ],
      "metadata": {
        "colab": {
          "base_uri": "https://localhost:8080/",
          "height": 35
        },
        "id": "oSai0w2QYQBA",
        "outputId": "f71f0f0b-da44-4855-d895-1353c96b902e"
      },
      "execution_count": 30,
      "outputs": [
        {
          "output_type": "execute_result",
          "data": {
            "text/plain": [
              "'A-T'"
            ],
            "application/vnd.google.colaboratory.intrinsic+json": {
              "type": "string"
            }
          },
          "metadata": {},
          "execution_count": 30
        }
      ]
    },
    {
      "cell_type": "code",
      "source": [
        "alignment[0, 2]"
      ],
      "metadata": {
        "colab": {
          "base_uri": "https://localhost:8080/",
          "height": 35
        },
        "id": "kimKVsHGYQD5",
        "outputId": "bb698e9d-2584-4da4-c7bc-1006816c3ae8"
      },
      "execution_count": 31,
      "outputs": [
        {
          "output_type": "execute_result",
          "data": {
            "text/plain": [
              "'G'"
            ],
            "application/vnd.google.colaboratory.intrinsic+json": {
              "type": "string"
            }
          },
          "metadata": {},
          "execution_count": 31
        }
      ]
    },
    {
      "cell_type": "code",
      "source": [
        "alignment[2, 6]"
      ],
      "metadata": {
        "colab": {
          "base_uri": "https://localhost:8080/",
          "height": 35
        },
        "id": "jJ5cKPUkYQGP",
        "outputId": "b5b7c219-eea8-469f-aa7a-bc88a980513a"
      },
      "execution_count": 32,
      "outputs": [
        {
          "output_type": "execute_result",
          "data": {
            "text/plain": [
              "'-'"
            ],
            "application/vnd.google.colaboratory.intrinsic+json": {
              "type": "string"
            }
          },
          "metadata": {},
          "execution_count": 32
        }
      ]
    },
    {
      "cell_type": "code",
      "source": [
        "alignment[:, 0]"
      ],
      "metadata": {
        "colab": {
          "base_uri": "https://localhost:8080/",
          "height": 35
        },
        "id": "mUXgYlqxYQI7",
        "outputId": "c6804b70-cd47-4eb6-9373-63dde26cb59f"
      },
      "execution_count": 33,
      "outputs": [
        {
          "output_type": "execute_result",
          "data": {
            "text/plain": [
              "'CAA'"
            ],
            "application/vnd.google.colaboratory.intrinsic+json": {
              "type": "string"
            }
          },
          "metadata": {},
          "execution_count": 33
        }
      ]
    },
    {
      "cell_type": "code",
      "source": [
        "alignment[:, 1]"
      ],
      "metadata": {
        "colab": {
          "base_uri": "https://localhost:8080/",
          "height": 35
        },
        "id": "KzJgiSchYdmp",
        "outputId": "f11b69a2-3d09-445f-fde5-d595caa75bfc"
      },
      "execution_count": 34,
      "outputs": [
        {
          "output_type": "execute_result",
          "data": {
            "text/plain": [
              "'GGG'"
            ],
            "application/vnd.google.colaboratory.intrinsic+json": {
              "type": "string"
            }
          },
          "metadata": {},
          "execution_count": 34
        }
      ]
    },
    {
      "cell_type": "code",
      "source": [
        "alignment[:, 2]"
      ],
      "metadata": {
        "colab": {
          "base_uri": "https://localhost:8080/",
          "height": 35
        },
        "id": "-YNIEa8RYdpJ",
        "outputId": "af77daa2-a23d-403d-ceb7-77f512689bce"
      },
      "execution_count": 35,
      "outputs": [
        {
          "output_type": "execute_result",
          "data": {
            "text/plain": [
              "'G-G'"
            ],
            "application/vnd.google.colaboratory.intrinsic+json": {
              "type": "string"
            }
          },
          "metadata": {},
          "execution_count": 35
        }
      ]
    },
    {
      "cell_type": "code",
      "source": [
        "alignment[1:]\n",
        "print(alignment[1:])"
      ],
      "metadata": {
        "colab": {
          "base_uri": "https://localhost:8080/"
        },
        "id": "sRd6Pio_YdsG",
        "outputId": "3e5fa035-e9e7-4faa-a6a1-5f8c8f14d57c"
      },
      "execution_count": 36,
      "outputs": [
        {
          "output_type": "stream",
          "name": "stdout",
          "text": [
            "target            0 AG-TTT 5\n",
            "                  0 ||-||| 6\n",
            "query             0 AGGTTT 6\n",
            "\n"
          ]
        }
      ]
    },
    {
      "cell_type": "code",
      "source": [
        "alignment[:, :4]\n",
        "print(alignment[:, :4])"
      ],
      "metadata": {
        "colab": {
          "base_uri": "https://localhost:8080/"
        },
        "id": "OnqGxwWxYdux",
        "outputId": "16971f26-6cb8-4bb4-c381-e289474d6c75"
      },
      "execution_count": 37,
      "outputs": [
        {
          "output_type": "stream",
          "name": "stdout",
          "text": [
            "                  1 CGGT 5\n",
            "                  0 AG-T 3\n",
            "                  0 AGGT 4\n",
            "\n"
          ]
        }
      ]
    },
    {
      "cell_type": "code",
      "source": [
        "alignment[:, -6:]\n",
        "print(alignment[:, -6:])"
      ],
      "metadata": {
        "colab": {
          "base_uri": "https://localhost:8080/"
        },
        "id": "YhenwfJIYuIB",
        "outputId": "7b7f8866-93ad-4fc1-b95f-059afea0edee"
      },
      "execution_count": 38,
      "outputs": [
        {
          "output_type": "stream",
          "name": "stdout",
          "text": [
            "                  3 GTTTTT 9\n",
            "                  2 -TTT-- 5\n",
            "                  2 GTTT-- 6\n",
            "\n"
          ]
        }
      ]
    },
    {
      "cell_type": "code",
      "source": [
        "print(alignment[:, (1, 3, 0)])"
      ],
      "metadata": {
        "colab": {
          "base_uri": "https://localhost:8080/"
        },
        "id": "IHhto-MgYuKU",
        "outputId": "da0fc984-9faa-46c4-d1da-6ee1d8aef53f"
      },
      "execution_count": 39,
      "outputs": [
        {
          "output_type": "stream",
          "name": "stdout",
          "text": [
            "                  0 GTC 3\n",
            "                  0 GTA 3\n",
            "                  0 GTA 3\n",
            "\n"
          ]
        }
      ]
    },
    {
      "cell_type": "markdown",
      "source": [
        "**Getting information about the alignment**\n",
        "\n",
        "*Alignment shape*"
      ],
      "metadata": {
        "id": "-bcd6WCtY2NT"
      }
    },
    {
      "cell_type": "code",
      "source": [
        "len(alignment)"
      ],
      "metadata": {
        "colab": {
          "base_uri": "https://localhost:8080/"
        },
        "id": "Q8Z8zCU5YuQH",
        "outputId": "37e162a2-8d20-4023-98c5-35d51ca73cd0"
      },
      "execution_count": 40,
      "outputs": [
        {
          "output_type": "execute_result",
          "data": {
            "text/plain": [
              "3"
            ]
          },
          "metadata": {},
          "execution_count": 40
        }
      ]
    },
    {
      "cell_type": "code",
      "source": [
        "alignment.length"
      ],
      "metadata": {
        "colab": {
          "base_uri": "https://localhost:8080/"
        },
        "id": "ouhuBLYDYuSM",
        "outputId": "3e245ebb-1a59-4efc-d5f5-524e4413c35d"
      },
      "execution_count": 41,
      "outputs": [
        {
          "output_type": "execute_result",
          "data": {
            "text/plain": [
              "8"
            ]
          },
          "metadata": {},
          "execution_count": 41
        }
      ]
    },
    {
      "cell_type": "code",
      "source": [
        "alignment.shape"
      ],
      "metadata": {
        "colab": {
          "base_uri": "https://localhost:8080/"
        },
        "id": "_XXmF9ozYuUx",
        "outputId": "afdb1587-8f03-4ae9-dec0-b413fea663d8"
      },
      "execution_count": 42,
      "outputs": [
        {
          "output_type": "execute_result",
          "data": {
            "text/plain": [
              "(3, 8)"
            ]
          },
          "metadata": {},
          "execution_count": 42
        }
      ]
    },
    {
      "cell_type": "markdown",
      "source": [
        "**Comparing alignments**\n",
        "\n",
        "*Finding the indices of aligned sequences*"
      ],
      "metadata": {
        "id": "Wqqst92sZE-a"
      }
    },
    {
      "cell_type": "code",
      "source": [
        "pairwise_alignment = alignment[:2, :]\n",
        "print(pairwise_alignment)"
      ],
      "metadata": {
        "colab": {
          "base_uri": "https://localhost:8080/"
        },
        "id": "jmeEjT78YuW-",
        "outputId": "114bffc7-ffd9-4f43-8eb7-70395f01cb2e"
      },
      "execution_count": 43,
      "outputs": [
        {
          "output_type": "stream",
          "name": "stdout",
          "text": [
            "target            1 CGGTTTTT 9\n",
            "                  0 .|-|||-- 8\n",
            "query             0 AG-TTT-- 5\n",
            "\n"
          ]
        }
      ]
    },
    {
      "cell_type": "code",
      "source": [
        "print(pairwise_alignment.aligned)"
      ],
      "metadata": {
        "colab": {
          "base_uri": "https://localhost:8080/"
        },
        "id": "VtSxupliZCW7",
        "outputId": "dfc84766-8211-4f9d-d834-c18f3c7a2060"
      },
      "execution_count": 44,
      "outputs": [
        {
          "output_type": "stream",
          "name": "stdout",
          "text": [
            "[[[1 3]\n",
            "  [4 7]]\n",
            "\n",
            " [[0 2]\n",
            "  [2 5]]]\n"
          ]
        }
      ]
    },
    {
      "cell_type": "code",
      "source": [
        "pairwise_alignment1 = Alignment([\"AAACAAA\", \"AAAGAAA\"],\n",
        "                                np.array([[0, 3, 4, 4, 7], [0, 3, 3, 4, 7]]))  # fmt: skip\n",
        "\n",
        "pairwise_alignment2 = Alignment([\"AAACAAA\", \"AAAGAAA\"],\n",
        "                                np.array([[0, 3, 3, 4, 7], [0, 3, 4, 4, 7]]))  # fmt: skip\n",
        "\n",
        "print(pairwise_alignment1)\n",
        "print(pairwise_alignment2)"
      ],
      "metadata": {
        "colab": {
          "base_uri": "https://localhost:8080/"
        },
        "id": "kyXtHsl7ZCZv",
        "outputId": "af2de7d6-1044-4b84-8197-7b0beef37178"
      },
      "execution_count": 46,
      "outputs": [
        {
          "output_type": "stream",
          "name": "stdout",
          "text": [
            "target            0 AAAC-AAA 7\n",
            "                  0 |||--||| 8\n",
            "query             0 AAA-GAAA 7\n",
            "\n",
            "target            0 AAA-CAAA 7\n",
            "                  0 |||--||| 8\n",
            "query             0 AAAG-AAA 7\n",
            "\n"
          ]
        }
      ]
    },
    {
      "cell_type": "code",
      "source": [
        "pairwise_alignment1.aligned"
      ],
      "metadata": {
        "colab": {
          "base_uri": "https://localhost:8080/"
        },
        "id": "KA-jQy7dZCc6",
        "outputId": "52f09463-e55c-4c02-bed0-61ee1fe90a08"
      },
      "execution_count": 48,
      "outputs": [
        {
          "output_type": "execute_result",
          "data": {
            "text/plain": [
              "array([[[0, 3],\n",
              "        [4, 7]],\n",
              "\n",
              "       [[0, 3],\n",
              "        [4, 7]]])"
            ]
          },
          "metadata": {},
          "execution_count": 48
        }
      ]
    },
    {
      "cell_type": "code",
      "source": [
        "pairwise_alignment2.aligned"
      ],
      "metadata": {
        "colab": {
          "base_uri": "https://localhost:8080/"
        },
        "id": "Q5JelhiWZCe0",
        "outputId": "5da177b4-fd1f-4258-f8da-061df4e93917"
      },
      "execution_count": 49,
      "outputs": [
        {
          "output_type": "execute_result",
          "data": {
            "text/plain": [
              "array([[[0, 3],\n",
              "        [4, 7]],\n",
              "\n",
              "       [[0, 3],\n",
              "        [4, 7]]])"
            ]
          },
          "metadata": {},
          "execution_count": 49
        }
      ]
    },
    {
      "cell_type": "code",
      "source": [
        "print(alignment)"
      ],
      "metadata": {
        "colab": {
          "base_uri": "https://localhost:8080/"
        },
        "id": "axQHyhsIZCgz",
        "outputId": "3433fb1c-ad73-4cd3-fdc9-15aa55746a4a"
      },
      "execution_count": 50,
      "outputs": [
        {
          "output_type": "stream",
          "name": "stdout",
          "text": [
            "                  1 CGGTTTTT 9\n",
            "                  0 AG-TTT-- 5\n",
            "                  0 AGGTTT-- 6\n",
            "\n"
          ]
        }
      ]
    },
    {
      "cell_type": "code",
      "source": [
        "alignment.indices"
      ],
      "metadata": {
        "colab": {
          "base_uri": "https://localhost:8080/"
        },
        "id": "mJO6bgAKZCjB",
        "outputId": "e951e009-a4c7-4be0-a666-c911dd2d5700"
      },
      "execution_count": 51,
      "outputs": [
        {
          "output_type": "execute_result",
          "data": {
            "text/plain": [
              "array([[ 1,  2,  3,  4,  5,  6,  7,  8],\n",
              "       [ 0,  1, -1,  2,  3,  4, -1, -1],\n",
              "       [ 0,  1,  2,  3,  4,  5, -1, -1]])"
            ]
          },
          "metadata": {},
          "execution_count": 51
        }
      ]
    },
    {
      "cell_type": "code",
      "source": [
        "alignment.sequences"
      ],
      "metadata": {
        "colab": {
          "base_uri": "https://localhost:8080/"
        },
        "id": "QoF4tgCZYuZ1",
        "outputId": "bb2ddbe4-fc87-4e46-f266-aa4b7a4ad77b"
      },
      "execution_count": 54,
      "outputs": [
        {
          "output_type": "execute_result",
          "data": {
            "text/plain": [
              "['CCGGTTTTT', 'AGTTTAA', 'AGGTTT']"
            ]
          },
          "metadata": {},
          "execution_count": 54
        }
      ]
    },
    {
      "cell_type": "code",
      "source": [
        "alignment.inverse_indices"
      ],
      "metadata": {
        "colab": {
          "base_uri": "https://localhost:8080/"
        },
        "id": "9D7yUU6PZt76",
        "outputId": "f7f501aa-8ed2-40cc-d355-d7a782d9c43b"
      },
      "execution_count": 55,
      "outputs": [
        {
          "output_type": "execute_result",
          "data": {
            "text/plain": [
              "[array([-1,  0,  1,  2,  3,  4,  5,  6,  7]),\n",
              " array([ 0,  1,  3,  4,  5, -1, -1]),\n",
              " array([0, 1, 2, 3, 4, 5])]"
            ]
          },
          "metadata": {},
          "execution_count": 55
        }
      ]
    },
    {
      "cell_type": "markdown",
      "source": [
        "**Counting identities, mismatches, and gaps**"
      ],
      "metadata": {
        "id": "HRlplHB4Z24B"
      }
    },
    {
      "cell_type": "code",
      "source": [
        "print(pairwise_alignment)"
      ],
      "metadata": {
        "colab": {
          "base_uri": "https://localhost:8080/"
        },
        "id": "hNvucPNGZwMi",
        "outputId": "2c6fdf1d-f255-490a-82de-7f0c98d90879"
      },
      "execution_count": 56,
      "outputs": [
        {
          "output_type": "stream",
          "name": "stdout",
          "text": [
            "target            1 CGGTTTTT 9\n",
            "                  0 .|-|||-- 8\n",
            "query             0 AG-TTT-- 5\n",
            "\n"
          ]
        }
      ]
    },
    {
      "cell_type": "code",
      "source": [
        "pairwise_alignment.counts()"
      ],
      "metadata": {
        "colab": {
          "base_uri": "https://localhost:8080/"
        },
        "id": "_ccFJzPlZ5qc",
        "outputId": "766b89da-1dbd-426c-d219-16d4d3181634"
      },
      "execution_count": 57,
      "outputs": [
        {
          "output_type": "execute_result",
          "data": {
            "text/plain": [
              "AlignmentCounts(gaps=3, identities=4, mismatches=1)"
            ]
          },
          "metadata": {},
          "execution_count": 57
        }
      ]
    },
    {
      "cell_type": "code",
      "source": [
        "print(alignment)"
      ],
      "metadata": {
        "colab": {
          "base_uri": "https://localhost:8080/"
        },
        "id": "04tK6mKmZ5s7",
        "outputId": "5732fe54-1e36-4e0c-da19-6559a5e3682f"
      },
      "execution_count": 58,
      "outputs": [
        {
          "output_type": "stream",
          "name": "stdout",
          "text": [
            "                  1 CGGTTTTT 9\n",
            "                  0 AG-TTT-- 5\n",
            "                  0 AGGTTT-- 6\n",
            "\n"
          ]
        }
      ]
    },
    {
      "cell_type": "code",
      "source": [
        "alignment.counts()"
      ],
      "metadata": {
        "colab": {
          "base_uri": "https://localhost:8080/"
        },
        "id": "lP5AQS2qZ5vX",
        "outputId": "6a8a572a-c44f-4f92-eea2-db0f1361b7e0"
      },
      "execution_count": 59,
      "outputs": [
        {
          "output_type": "execute_result",
          "data": {
            "text/plain": [
              "AlignmentCounts(gaps=8, identities=14, mismatches=2)"
            ]
          },
          "metadata": {},
          "execution_count": 59
        }
      ]
    },
    {
      "cell_type": "markdown",
      "source": [
        "**Letter frequencies**\n",
        "\n",
        "Frekanslar yöntemi, her harfin hizalamanın her sütununda ne sıklıkta göründüğünü hesaplar"
      ],
      "metadata": {
        "id": "ODatg6thalbL"
      }
    },
    {
      "cell_type": "code",
      "source": [
        "alignment.frequencies"
      ],
      "metadata": {
        "colab": {
          "base_uri": "https://localhost:8080/"
        },
        "id": "Wu6hBEfgZ5xt",
        "outputId": "8a1689ec-866d-46f8-9c8a-cbb838db581a"
      },
      "execution_count": 60,
      "outputs": [
        {
          "output_type": "execute_result",
          "data": {
            "text/plain": [
              "{'C': array([1., 0., 0., 0., 0., 0., 0., 0.]),\n",
              " 'G': array([0., 3., 2., 0., 0., 0., 0., 0.]),\n",
              " 'T': array([0., 0., 0., 3., 3., 3., 1., 1.]),\n",
              " 'A': array([2., 0., 0., 0., 0., 0., 0., 0.]),\n",
              " '-': array([0., 0., 1., 0., 0., 0., 2., 2.])}"
            ]
          },
          "metadata": {},
          "execution_count": 60
        }
      ]
    },
    {
      "cell_type": "markdown",
      "source": [
        "**Substitutions**\n",
        "\n",
        "Her bir nükleotid çifti arasındaki yer değiştirme sayısını bulmak için yer değiştirme yöntemini kullanın:"
      ],
      "metadata": {
        "id": "dcbBvAg2axxc"
      }
    },
    {
      "cell_type": "code",
      "source": [
        "m = alignment.substitutions\n",
        "print(m)"
      ],
      "metadata": {
        "colab": {
          "base_uri": "https://localhost:8080/"
        },
        "id": "JMlRNlKEZ50J",
        "outputId": "05e16f67-dfac-4b0c-e129-029f1f30a378"
      },
      "execution_count": 61,
      "outputs": [
        {
          "output_type": "stream",
          "name": "stdout",
          "text": [
            "    A   C   G   T\n",
            "A 1.0 0.0 0.0 0.0\n",
            "C 2.0 0.0 0.0 0.0\n",
            "G 0.0 0.0 4.0 0.0\n",
            "T 0.0 0.0 0.0 9.0\n",
            "\n"
          ]
        }
      ]
    },
    {
      "cell_type": "code",
      "source": [
        "m[\"C\", \"A\"]"
      ],
      "metadata": {
        "colab": {
          "base_uri": "https://localhost:8080/"
        },
        "id": "3eg1Lao7Z52d",
        "outputId": "67b85a89-babd-42a5-8422-d87d87bd0888"
      },
      "execution_count": 62,
      "outputs": [
        {
          "output_type": "execute_result",
          "data": {
            "text/plain": [
              "2.0"
            ]
          },
          "metadata": {},
          "execution_count": 62
        }
      ]
    },
    {
      "cell_type": "code",
      "source": [
        "m[\"A\", \"C\"]"
      ],
      "metadata": {
        "colab": {
          "base_uri": "https://localhost:8080/"
        },
        "id": "s-kY7Q67Z55n",
        "outputId": "3e7d73c4-f10d-43c0-de60-b6c25ad328ba"
      },
      "execution_count": 63,
      "outputs": [
        {
          "output_type": "execute_result",
          "data": {
            "text/plain": [
              "0.0"
            ]
          },
          "metadata": {},
          "execution_count": 63
        }
      ]
    },
    {
      "cell_type": "code",
      "source": [
        "m += m.transpose()\n",
        "m /= 2.0\n",
        "print(m)"
      ],
      "metadata": {
        "colab": {
          "base_uri": "https://localhost:8080/"
        },
        "id": "WgX-hMp6bbcN",
        "outputId": "4f75b51c-5d34-47c0-9ba7-40ad5aa8a416"
      },
      "execution_count": 64,
      "outputs": [
        {
          "output_type": "stream",
          "name": "stdout",
          "text": [
            "    A   C   G   T\n",
            "A 1.0 1.0 0.0 0.0\n",
            "C 1.0 0.0 0.0 0.0\n",
            "G 0.0 0.0 4.0 0.0\n",
            "T 0.0 0.0 0.0 9.0\n",
            "\n"
          ]
        }
      ]
    },
    {
      "cell_type": "code",
      "source": [
        "m[\"A\", \"C\"]"
      ],
      "metadata": {
        "colab": {
          "base_uri": "https://localhost:8080/"
        },
        "id": "wKseOhtzbbe7",
        "outputId": "26a98a67-d05a-42bb-c367-0354427271c3"
      },
      "execution_count": 65,
      "outputs": [
        {
          "output_type": "execute_result",
          "data": {
            "text/plain": [
              "1.0"
            ]
          },
          "metadata": {},
          "execution_count": 65
        }
      ]
    },
    {
      "cell_type": "code",
      "source": [
        "m[\"C\", \"A\"]"
      ],
      "metadata": {
        "colab": {
          "base_uri": "https://localhost:8080/"
        },
        "id": "kMgzLsCgbiU9",
        "outputId": "d191a06b-aff9-44ff-8aa7-0dc0adcccbc2"
      },
      "execution_count": 66,
      "outputs": [
        {
          "output_type": "execute_result",
          "data": {
            "text/plain": [
              "1.0"
            ]
          },
          "metadata": {},
          "execution_count": 66
        }
      ]
    },
    {
      "cell_type": "markdown",
      "source": [
        "**Alignments as arrays**"
      ],
      "metadata": {
        "id": "iAqRl0pJbnn7"
      }
    },
    {
      "cell_type": "code",
      "source": [
        "align_array = np.array(alignment)\n",
        "align_array.shape"
      ],
      "metadata": {
        "colab": {
          "base_uri": "https://localhost:8080/"
        },
        "id": "fOhsC8iJbjJI",
        "outputId": "789a4677-5dd5-4602-8517-172e71883c1b"
      },
      "execution_count": 68,
      "outputs": [
        {
          "output_type": "execute_result",
          "data": {
            "text/plain": [
              "(3, 8)"
            ]
          },
          "metadata": {},
          "execution_count": 68
        }
      ]
    },
    {
      "cell_type": "code",
      "source": [
        "align_array"
      ],
      "metadata": {
        "colab": {
          "base_uri": "https://localhost:8080/"
        },
        "id": "MLzyzK0pbo0W",
        "outputId": "a49eaead-e7f3-4d7b-a3e5-196fbd575e77"
      },
      "execution_count": 69,
      "outputs": [
        {
          "output_type": "execute_result",
          "data": {
            "text/plain": [
              "array([[b'C', b'G', b'G', b'T', b'T', b'T', b'T', b'T'],\n",
              "       [b'A', b'G', b'-', b'T', b'T', b'T', b'-', b'-'],\n",
              "       [b'A', b'G', b'G', b'T', b'T', b'T', b'-', b'-']], dtype='|S1')"
            ]
          },
          "metadata": {},
          "execution_count": 69
        }
      ]
    },
    {
      "cell_type": "code",
      "source": [
        "align_array = np.array(alignment, dtype=\"U\")"
      ],
      "metadata": {
        "id": "yvIYbLBybo3D"
      },
      "execution_count": 70,
      "outputs": []
    },
    {
      "cell_type": "code",
      "source": [
        "align_array"
      ],
      "metadata": {
        "colab": {
          "base_uri": "https://localhost:8080/"
        },
        "id": "x_QHS_GKbjhY",
        "outputId": "e78035fc-44f5-44d1-8030-6195939d3a59"
      },
      "execution_count": 71,
      "outputs": [
        {
          "output_type": "execute_result",
          "data": {
            "text/plain": [
              "array([['C', 'G', 'G', 'T', 'T', 'T', 'T', 'T'],\n",
              "       ['A', 'G', '-', 'T', 'T', 'T', '-', '-'],\n",
              "       ['A', 'G', 'G', 'T', 'T', 'T', '-', '-']], dtype='<U1')"
            ]
          },
          "metadata": {},
          "execution_count": 71
        }
      ]
    },
    {
      "cell_type": "markdown",
      "source": [
        "**Operations on an alignment**\n",
        "\n",
        "*Sorting an alignment*"
      ],
      "metadata": {
        "id": "BM8am5Zjb8ZE"
      }
    },
    {
      "cell_type": "code",
      "source": [],
      "metadata": {
        "id": "y44VCaaebjjy"
      },
      "execution_count": null,
      "outputs": []
    }
  ]
}